{
 "cells": [
  {
   "cell_type": "markdown",
   "metadata": {},
   "source": [
    "# Tutorial for Numpy and Matplotlib - Lab 0"
   ]
  },
  {
   "cell_type": "markdown",
   "metadata": {},
   "source": [
    "### Installation\n",
    "Numpy and Matplotlib should be the most common packages used in python scientific programs. In this short document, we seek to provide a quick introduction to help you get acquanited with it.\n",
    "\n",
    "Detailed installation guidance can be found here: https://scipy.org/install.html. We strongly recoomend you install numpy and matplotlib by anaconda, which can also be found in this link."
   ]
  },
  {
   "cell_type": "markdown",
   "metadata": {},
   "source": [
    "### Before everything\n",
    "Always, you should always read official tutorial if you want to learn it. I think it can solve almost all the questions for you. \n",
    "- https://docs.scipy.org/doc/numpy/user/quickstart.html (Numpy) \n",
    "- https://matplotlib.org/tutorials/index.html (Matplotlib). "
   ]
  },
  {
   "cell_type": "markdown",
   "metadata": {},
   "source": [
    "However, in this short document I really want to help you get acquianted with numpy and matplotlib quickly(For those who never used it). Below, I will try to show you some basic usage(magic) of numpy bros to solve a real problem. \n",
    "\n",
    "**For all the codes experimented here, I strongly recommend you to check related functions in the offcial site, at least check it by help() function.**"
   ]
  },
  {
   "cell_type": "markdown",
   "metadata": {},
   "source": [
    "### China Food Analysis"
   ]
  },
  {
   "cell_type": "markdown",
   "metadata": {},
   "source": [
    "Suppose we have a dataset called 'Chinafood.txt' which contains the sales record of different chinese food in London last 4 monthes.\n",
    "\n",
    "| Month/Type| A |B| C |D |E|\n",
    "|------|------|------|------|------|------|\n",
    "|Sept  | 1| 3 |5 |7| 9\n",
    "|Aug   |2 |4 |6 |8 |10\n",
    "|Jul   |7 |5 |3 |1 |13\n",
    "|Jun   |6 |6 |6 |6 |6|\n",
    "\n",
    "The boss now want me to analyze the dataset to get some precitions about marker share and sales trends thus to improve profit.\n",
    "Now, let's begin!"
   ]
  },
  {
   "cell_type": "markdown",
   "metadata": {},
   "source": [
    "### Numpy"
   ]
  },
  {
   "cell_type": "code",
   "execution_count": 1,
   "metadata": {},
   "outputs": [],
   "source": [
    "import numpy as np"
   ]
  },
  {
   "cell_type": "markdown",
   "metadata": {},
   "source": [
    "#### Creation"
   ]
  },
  {
   "cell_type": "markdown",
   "metadata": {},
   "source": [
    "We create our dataset by np.array function which is the basic creation method for numpy array. Here a matrix has been constructed, similarly we can create a vector or more-dimensional data. Try it!"
   ]
  },
  {
   "cell_type": "code",
   "execution_count": 2,
   "metadata": {},
   "outputs": [
    {
     "name": "stdout",
     "output_type": "stream",
     "text": [
      "[[ 1  3  5  7  9]\n",
      " [ 2  4  6  8 10]\n",
      " [ 7  5  3  1 13]\n",
      " [ 6  6  6  6  6]]\n"
     ]
    }
   ],
   "source": [
    "chinafood = np.array([[1,3,5,7,9],\n",
    "                     [2,4,6,8,10],\n",
    "                     [7,5,3,1,13],\n",
    "                     [6,6,6,6,6]])\n",
    "print(chinafood)"
   ]
  },
  {
   "cell_type": "code",
   "execution_count": 3,
   "metadata": {},
   "outputs": [
    {
     "name": "stdout",
     "output_type": "stream",
     "text": [
      "[ 1 10]\n",
      "------------\n",
      "[[[ 1 10]\n",
      "  [ 2  5]\n",
      "  [ 3  6]]\n",
      "\n",
      " [[ 1 10]\n",
      "  [ 2  5]\n",
      "  [ 3  6]]\n",
      "\n",
      " [[ 1 10]\n",
      "  [ 2  5]\n",
      "  [ 3  6]]]\n"
     ]
    }
   ],
   "source": [
    "test = np.array((1,10))\n",
    "print(test)\n",
    "print(\"------------\")\n",
    "test = np.array([[[1,10],[2,5],[3,6]],\n",
    "                [[1,10],[2,5],[3,6]],\n",
    "                [[1,10],[2,5],[3,6]]])\n",
    "print(test)"
   ]
  },
  {
   "cell_type": "markdown",
   "metadata": {},
   "source": [
    "#### Slice and Index"
   ]
  },
  {
   "cell_type": "markdown",
   "metadata": {},
   "source": [
    "We can check sales records by slicling and indexing:"
   ]
  },
  {
   "cell_type": "code",
   "execution_count": 4,
   "metadata": {},
   "outputs": [
    {
     "name": "stdout",
     "output_type": "stream",
     "text": [
      "Sept A Sales: 1\n"
     ]
    }
   ],
   "source": [
    "print('Sept A Sales:', chinafood[0,0])"
   ]
  },
  {
   "cell_type": "code",
   "execution_count": 5,
   "metadata": {},
   "outputs": [
    {
     "name": "stdout",
     "output_type": "stream",
     "text": [
      "Sept Sales : [1 3 5 7 9]\n",
      "A Sales: [1 2 7 6]\n"
     ]
    }
   ],
   "source": [
    "print('Sept Sales :', chinafood[0,:])\n",
    "print('A Sales:', chinafood[:,0])\n",
    "# similaryly in python list, : can be used to indexing a row or col"
   ]
  },
  {
   "cell_type": "markdown",
   "metadata": {},
   "source": [
    "We can calculate basic statistics of each month/type of food."
   ]
  },
  {
   "cell_type": "code",
   "execution_count": 6,
   "metadata": {},
   "outputs": [
    {
     "data": {
      "text/plain": [
       "5.8"
      ]
     },
     "execution_count": 6,
     "metadata": {},
     "output_type": "execute_result"
    }
   ],
   "source": [
    "np.mean(chinafood[2,:]) #Mean sales for July"
   ]
  },
  {
   "cell_type": "code",
   "execution_count": 7,
   "metadata": {},
   "outputs": [
    {
     "data": {
      "text/plain": [
       "8"
      ]
     },
     "execution_count": 7,
     "metadata": {},
     "output_type": "execute_result"
    }
   ],
   "source": [
    "np.max(chinafood[:,3]) #Max sales for D"
   ]
  },
  {
   "cell_type": "code",
   "execution_count": 8,
   "metadata": {},
   "outputs": [
    {
     "data": {
      "text/plain": [
       "1.224744871391589"
      ]
     },
     "execution_count": 8,
     "metadata": {},
     "output_type": "execute_result"
    }
   ],
   "source": [
    "np.std(chinafood[:,2]) #Standard sales deviation for C"
   ]
  },
  {
   "cell_type": "markdown",
   "metadata": {},
   "source": [
    "####  Reshape"
   ]
  },
  {
   "cell_type": "markdown",
   "metadata": {},
   "source": [
    "Suppose we just collected some new data of October sales record:(Here we simulate it artifically, that's actually another method to create a numpy array)"
   ]
  },
  {
   "cell_type": "code",
   "execution_count": 9,
   "metadata": {},
   "outputs": [
    {
     "name": "stdout",
     "output_type": "stream",
     "text": [
      "[[6 2 7 9 5]]\n"
     ]
    }
   ],
   "source": [
    "Oct = np.random.randint(0,10,[1,5]) #Create a 1*4 matrix of random int values in range(0-10)\n",
    "print(Oct)\n",
    "#Some other methods like np.ones/np.zeros/np.eyes/np.empty can be used to generate numpy array without specify input. Try it!"
   ]
  },
  {
   "cell_type": "markdown",
   "metadata": {},
   "source": [
    "We want to augment it to the chinafood data:"
   ]
  },
  {
   "cell_type": "code",
   "execution_count": 10,
   "metadata": {},
   "outputs": [],
   "source": [
    "chinafood = np.concatenate((Oct,chinafood),axis=0)"
   ]
  },
  {
   "cell_type": "code",
   "execution_count": 11,
   "metadata": {},
   "outputs": [
    {
     "data": {
      "text/plain": [
       "array([[ 6,  2,  7,  9,  5],\n",
       "       [ 1,  3,  5,  7,  9],\n",
       "       [ 2,  4,  6,  8, 10],\n",
       "       [ 7,  5,  3,  1, 13],\n",
       "       [ 6,  6,  6,  6,  6]])"
      ]
     },
     "execution_count": 11,
     "metadata": {},
     "output_type": "execute_result"
    }
   ],
   "source": [
    "chinafood"
   ]
  },
  {
   "cell_type": "markdown",
   "metadata": {},
   "source": [
    "Now you can see the Oct data has been on the top of matrix!"
   ]
  },
  {
   "cell_type": "markdown",
   "metadata": {},
   "source": [
    "Besides, we can change the shape of matrix(Though it means nothing in this problem):"
   ]
  },
  {
   "cell_type": "code",
   "execution_count": 12,
   "metadata": {},
   "outputs": [
    {
     "data": {
      "text/plain": [
       "array([[ 6,  2,  7,  9,  5,  1,  3,  5,  7,  9,  2,  4,  6,  8, 10,  7,\n",
       "         5,  3,  1, 13,  6,  6,  6,  6,  6]])"
      ]
     },
     "execution_count": 12,
     "metadata": {},
     "output_type": "execute_result"
    }
   ],
   "source": [
    "chinafood.reshape(1,25) #we can only do this actually"
   ]
  },
  {
   "cell_type": "code",
   "execution_count": 13,
   "metadata": {},
   "outputs": [
    {
     "name": "stdout",
     "output_type": "stream",
     "text": [
      "[[1 2 4 5 4 6]\n",
      " [1 4 7 2 4 7]\n",
      " [3 6 8 9 2 1]\n",
      " [3 5 7 8 0 2]]\n",
      "[[1 2 4 5 4 6]\n",
      " [1 4 7 2 4 7]\n",
      " [3 6 8 9 2 1]\n",
      " [3 5 7 8 0 2]]\n",
      "[[1 2 4 5 4 6 1 4 7 2 4 7]\n",
      " [3 6 8 9 2 1 3 5 7 8 0 2]]\n"
     ]
    }
   ],
   "source": [
    "test = np.array([[1,2,4,5,4,6],\n",
    "                [1,4,7,2,4,7],\n",
    "                [3,6,8,9,2,1],\n",
    "                [3,5,7,8,0,2]])\n",
    "print(test)\n",
    "test.reshape(-1,12)# Just guess what -1 means here\n",
    "print(test) # reshape is not a inplace operation!\n",
    "print(test.reshape(-1,12))"
   ]
  },
  {
   "cell_type": "markdown",
   "metadata": {},
   "source": [
    "#### Operations"
   ]
  },
  {
   "cell_type": "markdown",
   "metadata": {},
   "source": [
    "Numpy array support basic operations both by built_in operators and functions. "
   ]
  },
  {
   "cell_type": "code",
   "execution_count": 14,
   "metadata": {},
   "outputs": [
    {
     "name": "stdout",
     "output_type": "stream",
     "text": [
      "[[12  4 14 18 10]\n",
      " [ 2  6 10 14 18]\n",
      " [ 4  8 12 16 20]\n",
      " [14 10  6  2 26]\n",
      " [12 12 12 12 12]]\n"
     ]
    }
   ],
   "source": [
    "parischinafood = chinafood * 2 # The sales in Paris is double in London\n",
    "print(parischinafood)"
   ]
  },
  {
   "cell_type": "code",
   "execution_count": 15,
   "metadata": {},
   "outputs": [
    {
     "data": {
      "text/plain": [
       "array([[13,  5, 15, 19, 11],\n",
       "       [ 3,  7, 11, 15, 19],\n",
       "       [ 5,  9, 13, 17, 21],\n",
       "       [15, 11,  7,  3, 27],\n",
       "       [13, 13, 13, 13, 13]])"
      ]
     },
     "execution_count": 15,
     "metadata": {},
     "output_type": "execute_result"
    }
   ],
   "source": [
    "parischinafood + 1"
   ]
  },
  {
   "cell_type": "markdown",
   "metadata": {},
   "source": [
    "One common error here: do not use * as matrix multiplcation, use dot function or @"
   ]
  },
  {
   "cell_type": "code",
   "execution_count": 16,
   "metadata": {},
   "outputs": [
    {
     "data": {
      "text/plain": [
       "array([[ 36,   4,  49,  81,  25],\n",
       "       [  1,   9,  25,  49,  81],\n",
       "       [  4,  16,  36,  64, 100],\n",
       "       [ 49,  25,   9,   1, 169],\n",
       "       [ 36,  36,  36,  36,  36]])"
      ]
     },
     "execution_count": 16,
     "metadata": {},
     "output_type": "execute_result"
    }
   ],
   "source": [
    "chinafood * chinafood"
   ]
  },
  {
   "cell_type": "code",
   "execution_count": 17,
   "metadata": {},
   "outputs": [
    {
     "data": {
      "text/plain": [
       "array([[145, 121, 151, 163, 265],\n",
       "       [122, 120, 127, 131, 227],\n",
       "       [144, 140, 154, 162, 270],\n",
       "       [138, 124, 173, 201, 201],\n",
       "       [132, 120, 162, 186, 258]])"
      ]
     },
     "execution_count": 17,
     "metadata": {},
     "output_type": "execute_result"
    }
   ],
   "source": [
    "chinafood.dot(chinafood)"
   ]
  },
  {
   "cell_type": "code",
   "execution_count": 18,
   "metadata": {},
   "outputs": [
    {
     "data": {
      "text/plain": [
       "array([[145, 121, 151, 163, 265],\n",
       "       [122, 120, 127, 131, 227],\n",
       "       [144, 140, 154, 162, 270],\n",
       "       [138, 124, 173, 201, 201],\n",
       "       [132, 120, 162, 186, 258]])"
      ]
     },
     "execution_count": 18,
     "metadata": {},
     "output_type": "execute_result"
    }
   ],
   "source": [
    "chinafood @ chinafood"
   ]
  },
  {
   "cell_type": "code",
   "execution_count": 19,
   "metadata": {},
   "outputs": [
    {
     "data": {
      "text/plain": [
       "array([[ 216,    8,  343,  729,  125],\n",
       "       [   1,   27,  125,  343,  729],\n",
       "       [   8,   64,  216,  512, 1000],\n",
       "       [ 343,  125,   27,    1, 2197],\n",
       "       [ 216,  216,  216,  216,  216]], dtype=int32)"
      ]
     },
     "execution_count": 19,
     "metadata": {},
     "output_type": "execute_result"
    }
   ],
   "source": [
    "np.power(chinafood,3) #Cubics"
   ]
  },
  {
   "cell_type": "code",
   "execution_count": 20,
   "metadata": {},
   "outputs": [
    {
     "data": {
      "text/plain": [
       "array([[3. , 1. , 3.5, 4.5, 2.5],\n",
       "       [0.5, 1.5, 2.5, 3.5, 4.5],\n",
       "       [1. , 2. , 3. , 4. , 5. ],\n",
       "       [3.5, 2.5, 1.5, 0.5, 6.5],\n",
       "       [3. , 3. , 3. , 3. , 3. ]])"
      ]
     },
     "execution_count": 20,
     "metadata": {},
     "output_type": "execute_result"
    }
   ],
   "source": [
    "chinafood / 2"
   ]
  },
  {
   "cell_type": "markdown",
   "metadata": {},
   "source": [
    "Numpy also support inplace operators!"
   ]
  },
  {
   "cell_type": "code",
   "execution_count": 21,
   "metadata": {},
   "outputs": [
    {
     "name": "stdout",
     "output_type": "stream",
     "text": [
      "[[14  6 16 20 12]\n",
      " [ 4  8 12 16 20]\n",
      " [ 6 10 14 18 22]\n",
      " [16 12  8  4 28]\n",
      " [14 14 14 14 14]]\n"
     ]
    }
   ],
   "source": [
    "parischinafood += 2\n",
    "print(parischinafood)"
   ]
  },
  {
   "cell_type": "markdown",
   "metadata": {},
   "source": [
    "### Matplotlib"
   ]
  },
  {
   "cell_type": "markdown",
   "metadata": {},
   "source": [
    "I believe for most of you, the most common mudule used in matplotlib will be Pyplot. So I will show you two basic usage, stiil with the China food problem."
   ]
  },
  {
   "cell_type": "code",
   "execution_count": 22,
   "metadata": {},
   "outputs": [],
   "source": [
    "import matplotlib.pyplot as plt"
   ]
  },
  {
   "cell_type": "markdown",
   "metadata": {},
   "source": [
    "Some common plots like:"
   ]
  },
  {
   "cell_type": "code",
   "execution_count": 23,
   "metadata": {},
   "outputs": [
    {
     "name": "stdout",
     "output_type": "stream",
     "text": [
      "[ 0  1  2  3  4  5  6  7  8  9 10 11 12 13 14 15 16 17 18 19] \n",
      " [ 0.00000000e+00  3.24699469e-01  6.14212713e-01  8.37166478e-01\n",
      "  9.69400266e-01  9.96584493e-01  9.15773327e-01  7.35723911e-01\n",
      "  4.75947393e-01  1.64594590e-01 -1.64594590e-01 -4.75947393e-01\n",
      " -7.35723911e-01 -9.15773327e-01 -9.96584493e-01 -9.69400266e-01\n",
      " -8.37166478e-01 -6.14212713e-01 -3.24699469e-01 -2.44929360e-16]\n"
     ]
    }
   ],
   "source": [
    "y = np.linspace(0,2*np.pi,20)\n",
    "y = np.sin(y)\n",
    "x = np.arange(0,20)\n",
    "print(x,'\\n',y)"
   ]
  },
  {
   "cell_type": "code",
   "execution_count": 24,
   "metadata": {},
   "outputs": [
    {
     "data": {
      "text/plain": [
       "[<matplotlib.lines.Line2D at 0x20b07880d68>]"
      ]
     },
     "execution_count": 24,
     "metadata": {},
     "output_type": "execute_result"
    },
    {
     "data": {
      "image/png": "[encoded data removed]",
      "text/plain": [
       "<Figure size 432x288 with 1 Axes>"
      ]
     },
     "metadata": {
      "needs_background": "light"
     },
     "output_type": "display_data"
    }
   ],
   "source": [
    "plt.plot(x,y)"
   ]
  },
  {
   "cell_type": "code",
   "execution_count": 25,
   "metadata": {},
   "outputs": [
    {
     "data": {
      "text/plain": [
       "<BarContainer object of 20 artists>"
      ]
     },
     "execution_count": 25,
     "metadata": {},
     "output_type": "execute_result"
    },
    {
     "data": {
      "image/png": "[encoded data removed]",
      "text/plain": [
       "<Figure size 432x288 with 1 Axes>"
      ]
     },
     "metadata": {
      "needs_background": "light"
     },
     "output_type": "display_data"
    }
   ],
   "source": [
    "plt.bar(x,y)"
   ]
  },
  {
   "cell_type": "markdown",
   "metadata": {},
   "source": [
    "Now let's go on our chinadata analysis. We want to show the basic sales trends in the past five months:"
   ]
  },
  {
   "cell_type": "code",
   "execution_count": 26,
   "metadata": {},
   "outputs": [
    {
     "data": {
      "text/plain": [
       "<matplotlib.legend.Legend at 0x20b079bae80>"
      ]
     },
     "execution_count": 26,
     "metadata": {},
     "output_type": "execute_result"
    },
    {
     "data": {
      "image/png": "[encoded data removed]",
      "text/plain": [
       "<Figure size 576x360 with 1 Axes>"
      ]
     },
     "metadata": {
      "needs_background": "light"
     },
     "output_type": "display_data"
    }
   ],
   "source": [
    "plt.figure(figsize=(8,5))\n",
    "plt.plot(range(5),chinafood[:,0],'ro-',label='A')\n",
    "plt.plot(range(5),chinafood[:,1],'ko-',label='B')\n",
    "plt.plot(range(5),chinafood[:,2],'bo-',label='C')\n",
    "plt.plot(range(5),chinafood[:,3],'go-',label='D')\n",
    "plt.plot(range(5),chinafood[:,4],'yo-',label='E')\n",
    "plt.title('Sales Trends')\n",
    "plt.legend()"
   ]
  },
  {
   "cell_type": "markdown",
   "metadata": {},
   "source": [
    "Also, we want to show the market share of different food in the past five months: (Here we used subplots to show multiple plots together)"
   ]
  },
  {
   "cell_type": "code",
   "execution_count": 27,
   "metadata": {},
   "outputs": [
    {
     "data": {
      "image/png": "[encoded data removed]",
      "text/plain": [
       "<Figure size 864x576 with 6 Axes>"
      ]
     },
     "metadata": {},
     "output_type": "display_data"
    }
   ],
   "source": [
    "labels = ['A','B','C','D','E']\n",
    "Month = ['Oct','Sept','Aug','Jul','Jun','Total']\n",
    "plt.figure(figsize=(12,8))\n",
    "for i in range(5):\n",
    "    plt.subplot(2,3,i+1)\n",
    "    plt.pie(chinafood[i,:],labels=labels,autopct='%.1f%%',startangle = 0)\n",
    "    plt.title(Month[i])\n",
    "plt.subplot(2,3,6)\n",
    "plt.pie(np.sum(chinafood,axis=0),labels=labels,autopct='%.1f%%')\n",
    "plt.title(Month[5])\n",
    "plt.show()"
   ]
  },
  {
   "cell_type": "markdown",
   "metadata": {},
   "source": [
    "Chen Feng<br>\n",
    "02/10/2019"
   ]
  },
  {
   "cell_type": "code",
   "execution_count": 10,
   "metadata": {},
   "outputs": [],
   "source": [
    "colors  = {1:'1',2:'2',3:'3',4:'4'}\n",
    "doc = [2,4,6,2,6]"
   ]
  },
  {
   "cell_type": "code",
   "execution_count": 11,
   "metadata": {},
   "outputs": [
    {
     "data": {
      "text/plain": [
       "['2', '4', '2']"
      ]
     },
     "execution_count": 11,
     "metadata": {},
     "output_type": "execute_result"
    }
   ],
   "source": [
    "[colors[word] for word in doc if word in colors]"
   ]
  },
  {
   "cell_type": "code",
   "execution_count": null,
   "metadata": {},
   "outputs": [],
   "source": []
  }
 ],
 "metadata": {
  "kernelspec": {
   "display_name": "Python 3",
   "language": "python",
   "name": "python3"
  },
  "language_info": {
   "codemirror_mode": {
    "name": "ipython",
    "version": 3
   },
   "file_extension": ".py",
   "mimetype": "text/x-python",
   "name": "python",
   "nbconvert_exporter": "python",
   "pygments_lexer": "ipython3",
   "version": "3.7.3"
  }
 },
 "nbformat": 4,
 "nbformat_minor": 2
}
