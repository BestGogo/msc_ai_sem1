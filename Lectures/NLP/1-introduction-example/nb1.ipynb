{
 "cells": [
  {
   "cell_type": "code",
   "execution_count": 1,
   "metadata": {},
   "outputs": [],
   "source": [
    "text = \"hello I am happy. Are you?\""
   ]
  },
  {
   "cell_type": "code",
   "execution_count": 2,
   "metadata": {},
   "outputs": [],
   "source": [
    "# libraries for: regular expressions, file I/O\n",
    "import re\n",
    "import sys\n",
    "import unicodecsv"
   ]
  },
  {
   "cell_type": "code",
   "execution_count": 3,
   "metadata": {},
   "outputs": [],
   "source": [
    "def preProcess(text):\n",
    "    #print \"original:\", text\n",
    "    # sentence segmentation - assume already done\n",
    "    pass\n",
    "    # word tokenisation\n",
    "    text = re.sub(r\"(\\w)([.,;:!?'\\\"”\\)])\", r\"\\1 \\2\", text)\n",
    "    text = re.sub(r\"([.,;:!?'\\\"“\\(])(\\w)\", r\"\\1 \\2\", text)\n",
    "    #print \"tokenising:\", text\n",
    "    tokens = re.split(r\"\\s+\",text)\n",
    "    # normalisation\n",
    "    text = re.sub(r\"(\\S)\\1\\1+\",r\"\\1\\1\\1\", text)\n",
    "    tokens = [t.lower() for t in tokens]\n",
    "    return tokens"
   ]
  },
  {
   "cell_type": "code",
   "execution_count": 4,
   "metadata": {},
   "outputs": [
    {
     "name": "stdout",
     "output_type": "stream",
     "text": [
      "['hello', 'i', 'am', 'happy', '.', 'are', 'you', '?']\n"
     ]
    }
   ],
   "source": [
    "print preProcess(text)"
   ]
  },
  {
   "cell_type": "code",
   "execution_count": 5,
   "metadata": {},
   "outputs": [],
   "source": [
    "# turn into feature vectors\n",
    "featureDict = {}\n",
    "def toFeatureVector(words):\n",
    "    v = {}\n",
    "    for w in words:\n",
    "        try:\n",
    "            i = featureDict[w]\n",
    "        except KeyError:\n",
    "            i = len(featureDict) + 1\n",
    "            featureDict[w] = i\n",
    "        try:\n",
    "            v[i] += (1.0/len(words))\n",
    "        except KeyError:\n",
    "            v[i] = (1.0/len(words))\n",
    "    return v"
   ]
  },
  {
   "cell_type": "code",
   "execution_count": 6,
   "metadata": {},
   "outputs": [
    {
     "name": "stdout",
     "output_type": "stream",
     "text": [
      "{1: 0.125, 2: 0.125, 3: 0.125, 4: 0.125, 5: 0.125, 6: 0.125, 7: 0.125, 8: 0.125}\n"
     ]
    }
   ],
   "source": [
    "print toFeatureVector(preProcess(text))"
   ]
  },
  {
   "cell_type": "code",
   "execution_count": 7,
   "metadata": {},
   "outputs": [
    {
     "name": "stdout",
     "output_type": "stream",
     "text": [
      "{'i': 2, 'am': 3, '.': 5, 'are': 6, 'you': 7, 'hello': 1, '?': 8, 'happy': 4}\n"
     ]
    }
   ],
   "source": [
    "print featureDict"
   ]
  },
  {
   "cell_type": "code",
   "execution_count": 8,
   "metadata": {},
   "outputs": [
    {
     "name": "stdout",
     "output_type": "stream",
     "text": [
      "7952\n"
     ]
    }
   ],
   "source": [
    "# load training data from external files\n",
    "trainData = []\n",
    "trainLabels = []\n",
    "with open('pos.csv', 'rb') as f:\n",
    "    reader = unicodecsv.reader(f, encoding='utf-8')\n",
    "    for line in reader:\n",
    "        trainData.append(toFeatureVector(preProcess(line[0])))\n",
    "        trainLabels.append(1.0)\n",
    "with open('neg.csv', 'rb') as f:\n",
    "    reader = unicodecsv.reader(f, encoding='utf-8')\n",
    "    for line in reader:\n",
    "        trainData.append(toFeatureVector(preProcess(line[0])))\n",
    "        trainLabels.append(-1.0)\n",
    "print len(featureDict)"
   ]
  },
  {
   "cell_type": "code",
   "execution_count": 9,
   "metadata": {},
   "outputs": [],
   "source": [
    "train_set = [(df, l) \n",
    "               for df in trainData\n",
    "              for l in trainLabels]"
   ]
  },
  {
   "cell_type": "code",
   "execution_count": 10,
   "metadata": {},
   "outputs": [],
   "source": [
    "# libraries for: NLP, machine learning\n",
    "import nltk "
   ]
  },
  {
   "cell_type": "code",
   "execution_count": 11,
   "metadata": {},
   "outputs": [],
   "source": [
    "# train\n",
    "model = nltk.NaiveBayesClassifier.train(train_set)"
   ]
  },
  {
   "cell_type": "code",
   "execution_count": 12,
   "metadata": {},
   "outputs": [],
   "source": [
    "# predict\n",
    "def analyseSentiment(text):\n",
    "    v = toFeatureVector(preProcess(text))\n",
    "    print v\n",
    "    return model.classify(v)"
   ]
  },
  {
   "cell_type": "code",
   "execution_count": 13,
   "metadata": {},
   "outputs": [
    {
     "name": "stdout",
     "output_type": "stream",
     "text": [
      "{1: 0.125, 2: 0.125, 3: 0.125, 4: 0.125, 5: 0.125, 6: 0.125, 7: 0.125, 8: 0.125}\n",
      "sentiment =  1.0\n"
     ]
    }
   ],
   "source": [
    "s = analyseSentiment(text)\n",
    "print \"sentiment = \", s"
   ]
  },
  {
   "cell_type": "code",
   "execution_count": 14,
   "metadata": {},
   "outputs": [
    {
     "name": "stdout",
     "output_type": "stream",
     "text": [
      "{771: 0.25, 2: 0.25, 3: 0.25, 4: 0.25}\n"
     ]
    },
    {
     "data": {
      "text/plain": [
       "1.0"
      ]
     },
     "execution_count": 14,
     "metadata": {},
     "output_type": "execute_result"
    }
   ],
   "source": [
    "analyseSentiment(\"I am not happy\")"
   ]
  },
  {
   "cell_type": "code",
   "execution_count": null,
   "metadata": {},
   "outputs": [],
   "source": []
  }
 ],
 "metadata": {
  "kernelspec": {
   "display_name": "Python 2",
   "language": "python",
   "name": "python2"
  },
  "language_info": {
   "codemirror_mode": {
    "name": "ipython",
    "version": 2
   },
   "file_extension": ".py",
   "mimetype": "text/x-python",
   "name": "python",
   "nbconvert_exporter": "python",
   "pygments_lexer": "ipython2",
   "version": "2.7.16"
  }
 },
 "nbformat": 4,
 "nbformat_minor": 2
}
