{
 "cells": [
  {
   "cell_type": "code",
   "execution_count": 1,
   "metadata": {},
   "outputs": [],
   "source": [
    "text = \"hello I am happy. Are you?\""
   ]
  },
  {
   "cell_type": "code",
   "execution_count": 2,
   "metadata": {},
   "outputs": [],
   "source": [
    "# libraries for: regular expressions, file I/O\n",
    "import re\n",
    "import sys\n",
    "import unicodecsv"
   ]
  },
  {
   "cell_type": "code",
   "execution_count": 3,
   "metadata": {},
   "outputs": [],
   "source": [
    "def preProcess(text):\n",
    "    print \"original:\", text\n",
    "    # sentence segmentation - assume already done\n",
    "    pass\n",
    "    # word tokenisation\n",
    "    text = re.sub(r\"(\\w)([.,;:!?'\\\"”\\)])\", r\"\\1 \\2\", text)\n",
    "    text = re.sub(r\"([.,;:!?'\\\"“\\(])(\\w)\", r\"\\1 \\2\", text)\n",
    "    print \"tokenising:\", text\n",
    "    tokens = re.split(r\"\\s+\",text)\n",
    "    # normalisation\n",
    "    text = re.sub(r\"(\\S)\\1\\1+\",r\"\\1\\1\\1\", text)\n",
    "    tokens = [t.lower() for t in tokens]\n",
    "    return tokens"
   ]
  },
  {
   "cell_type": "code",
   "execution_count": 4,
   "metadata": {},
   "outputs": [
    {
     "name": "stdout",
     "output_type": "stream",
     "text": [
      "original: hello I am happy. Are you?\n",
      "tokenising: hello I am happy . Are you ?\n",
      "['hello', 'i', 'am', 'happy', '.', 'are', 'you', '?']\n"
     ]
    }
   ],
   "source": [
    "print preProcess(text)"
   ]
  },
  {
   "cell_type": "code",
   "execution_count": 5,
   "metadata": {},
   "outputs": [
    {
     "name": "stdout",
     "output_type": "stream",
     "text": [
      "{u'good': 1.0, u'ecstatic': 2.0, u'angry': -2.0, u'sad': -1.0, u'bad': -1.0, u'happy': 1.0}\n"
     ]
    }
   ],
   "source": [
    "# load an external dictionary\n",
    "sentimentDict = {}\n",
    "with open('sentiment.csv', 'rb') as f:\n",
    "    reader = unicodecsv.reader(f, encoding='utf-8')\n",
    "    for line in reader:\n",
    "        sentimentDict[line[0]] = float(line[1])\n",
    "print sentimentDict"
   ]
  },
  {
   "cell_type": "code",
   "execution_count": 6,
   "metadata": {},
   "outputs": [],
   "source": [
    "def getSentiment(word):\n",
    "    try:\n",
    "        return sentimentDict[word]\n",
    "    except KeyError:\n",
    "        return 0.0"
   ]
  },
  {
   "cell_type": "code",
   "execution_count": 7,
   "metadata": {},
   "outputs": [],
   "source": [
    "def analyseSentiment(text):\n",
    "    words = preProcess(text)\n",
    "    print \"words:\", words\n",
    "    scores = [getSentiment(w) for w in words]\n",
    "    print \"scores\", scores\n",
    "    return sum(scores)"
   ]
  },
  {
   "cell_type": "code",
   "execution_count": 8,
   "metadata": {},
   "outputs": [
    {
     "name": "stdout",
     "output_type": "stream",
     "text": [
      "original: hello I am happy. Are you?\n",
      "tokenising: hello I am happy . Are you ?\n",
      "words: ['hello', 'i', 'am', 'happy', '.', 'are', 'you', '?']\n",
      "scores [0.0, 0.0, 0.0, 1.0, 0.0, 0.0, 0.0, 0.0]\n",
      "sentiment =  1.0\n"
     ]
    }
   ],
   "source": [
    "s = analyseSentiment(text)\n",
    "print \"sentiment = \", s"
   ]
  },
  {
   "cell_type": "code",
   "execution_count": null,
   "metadata": {},
   "outputs": [],
   "source": []
  },
  {
   "cell_type": "code",
   "execution_count": null,
   "metadata": {},
   "outputs": [],
   "source": []
  }
 ],
 "metadata": {
  "kernelspec": {
   "display_name": "Python 2",
   "language": "python",
   "name": "python2"
  },
  "language_info": {
   "codemirror_mode": {
    "name": "ipython",
    "version": 2
   },
   "file_extension": ".py",
   "mimetype": "text/x-python",
   "name": "python",
   "nbconvert_exporter": "python",
   "pygments_lexer": "ipython2",
   "version": "2.7.16"
  }
 },
 "nbformat": 4,
 "nbformat_minor": 1
}
